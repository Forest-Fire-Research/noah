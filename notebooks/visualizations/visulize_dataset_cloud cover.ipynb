{
 "cells": [
  {
   "cell_type": "markdown",
   "id": "d78d0906",
   "metadata": {},
   "source": [
    "# Import Packages"
   ]
  },
  {
   "cell_type": "code",
   "execution_count": null,
   "id": "352533af",
   "metadata": {},
   "outputs": [],
   "source": [
    "import os\n",
    "import json\n",
    "import pandas as pd\n",
    "from tqdm import tqdm\n",
    "import matplotlib.pyplot as plt\n",
    "from dotenv import load_dotenv"
   ]
  },
  {
   "cell_type": "markdown",
   "id": "ef342841",
   "metadata": {},
   "source": [
    "# Set-up Environment"
   ]
  },
  {
   "cell_type": "code",
   "execution_count": null,
   "id": "ed61dbe8",
   "metadata": {},
   "outputs": [],
   "source": [
    "# load the .env file variables \n",
    "load_dotenv()\n",
    "\n",
    "GEEE_STORAGE_DIR = os.getenv(\"GEEE_STORAGE_DIR\")\n",
    "\n",
    "LANDSAT8_START_DATE = os.getenv(\"LANDSAT8_START_DATE\")\n",
    "LANDSAT8_DATA_STORAGE_DIR = os.getenv(\"LANDSAT8_DATA_STORAGE_DIR\")\n",
    "\n",
    "LANDSAT8_STORAGE_DIR = f\"{GEEE_STORAGE_DIR}{os.sep}{LANDSAT8_DATA_STORAGE_DIR}\""
   ]
  },
  {
   "cell_type": "markdown",
   "id": "4978e121",
   "metadata": {},
   "source": [
    "# Helper Functions"
   ]
  },
  {
   "cell_type": "code",
   "execution_count": null,
   "id": "983f21c0",
   "metadata": {},
   "outputs": [],
   "source": [
    "get_metadata_path = lambda file_name: f\"{LANDSAT8_STORAGE_DIR}{os.sep}{file_name}\""
   ]
  },
  {
   "cell_type": "markdown",
   "id": "7cba6f75",
   "metadata": {},
   "source": [
    "# Data Laoding"
   ]
  },
  {
   "cell_type": "code",
   "execution_count": null,
   "id": "989c510c",
   "metadata": {},
   "outputs": [],
   "source": [
    "# get all files\n",
    "landsat8_files = os.listdir(LANDSAT8_STORAGE_DIR)\n",
    "\n",
    "# Filter to json metadata\n",
    "landsat8_metadata_files = [file for file in landsat8_files if file.endswith(\".json\")]\n",
    "print(f\"Found {len(landsat8_metadata_files)} metadata files!\")"
   ]
  },
  {
   "cell_type": "markdown",
   "id": "ec5b2188",
   "metadata": {},
   "source": [
    "# Data Extraction\n",
    "\n",
    "Here we will be extracting the cloud cover vlaues for the Landsat 8 collcted metadata files"
   ]
  },
  {
   "cell_type": "code",
   "execution_count": null,
   "id": "4fdb596f",
   "metadata": {},
   "outputs": [],
   "source": [
    "cloud_cover_list = []\n",
    "\n",
    "for file_name in tqdm(landsat8_metadata_files):\n",
    "    # get path \n",
    "    metadata_path = get_metadata_path(\n",
    "        file_name = file_name\n",
    "    )\n",
    "\n",
    "    try:\n",
    "        # read file\n",
    "        with open(metadata_path, 'r') as meta_json:\n",
    "            landsat8_image_metadata = json.load(meta_json)\n",
    "            # extract cloud cover\n",
    "            cloud_cover = landsat8_image_metadata['properties']['CLOUD_COVER_LAND']\n",
    "            # add to list of cloud cover\n",
    "            cloud_cover_list.append(cloud_cover)\n",
    "\n",
    "            del landsat8_image_metadata\n",
    "            del cloud_cover\n",
    "    except:\n",
    "        print(f\"Error in reading JSON >>> {file_name}\")\n",
    "\n",
    "    del meta_json"
   ]
  },
  {
   "cell_type": "code",
   "execution_count": null,
   "id": "b35bc593",
   "metadata": {},
   "outputs": [],
   "source": [
    "cloud_cover_df = pd.DataFrame(\n",
    "    data = {\n",
    "        'Cloud Cover': cloud_cover_list\n",
    "    }\n",
    ")\n",
    "\n",
    "mean = cloud_cover_df['Cloud Cover'].mean()\n",
    "\n",
    "quartile_90 = cloud_cover_df['Cloud Cover'].quantile(0.90)"
   ]
  },
  {
   "cell_type": "markdown",
   "id": "2ef7cb4b",
   "metadata": {},
   "source": [
    "# Visualization"
   ]
  },
  {
   "cell_type": "code",
   "execution_count": null,
   "id": "49364f92",
   "metadata": {},
   "outputs": [],
   "source": [
    "ax = cloud_cover_df.plot(\n",
    "    kind = 'hist',\n",
    "    bins = 100,\n",
    "    figsize = (15, 7)\n",
    ")\n",
    "\n",
    "ax.set_xlabel(\n",
    "    'Cloud Cover % over Land', \n",
    "    fontsize = 20\n",
    ")\n",
    "\n",
    "ax.tick_params(\n",
    "    axis = 'x', \n",
    "    labelsize = 20\n",
    ") \n",
    "\n",
    "ax.set_ylabel(\n",
    "    \"Frequency\", \n",
    "    fontsize = 20\n",
    ")\n",
    "\n",
    "ax.tick_params(\n",
    "    axis = 'y', \n",
    "    labelsize = 20\n",
    ") \n",
    "\n",
    "plt.axvline(\n",
    "    mean, \n",
    "    color='red', \n",
    "    linestyle='dashed', \n",
    "    linewidth=2, \n",
    "    label=f'Mean: {mean:.2f}% cover over land'\n",
    ")\n",
    "\n",
    "plt.axvline(\n",
    "    quartile_90, \n",
    "    color='darkRed', \n",
    "    linestyle='dashed', \n",
    "    linewidth=2, \n",
    "    label=f'Quartile 90%: {quartile_90:.2f}% cover over land'\n",
    ")\n",
    "\n",
    "plt.legend(\n",
    "    fontsize = 22\n",
    ")\n",
    "\n",
    "plt.savefig(\n",
    "    f\"../../assets/figures/distribution_of_cloud_cover_over_land.png\", \n",
    "    transparent = True,\n",
    "    bbox_inches = 'tight', # compress the content  \n",
    "    pad_inches = 0.05, # have no extra margin\n",
    ")\n",
    "\n",
    "plt.show()"
   ]
  },
  {
   "cell_type": "code",
   "execution_count": null,
   "id": "c62aea86",
   "metadata": {},
   "outputs": [],
   "source": []
  }
 ],
 "metadata": {
  "kernelspec": {
   "display_name": ".venv",
   "language": "python",
   "name": "python3"
  },
  "language_info": {
   "codemirror_mode": {
    "name": "ipython",
    "version": 3
   },
   "file_extension": ".py",
   "mimetype": "text/x-python",
   "name": "python",
   "nbconvert_exporter": "python",
   "pygments_lexer": "ipython3",
   "version": "3.10.12"
  }
 },
 "nbformat": 4,
 "nbformat_minor": 5
}
