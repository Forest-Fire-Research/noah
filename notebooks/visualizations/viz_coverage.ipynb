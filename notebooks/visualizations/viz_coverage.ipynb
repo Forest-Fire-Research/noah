{
 "cells": [
  {
   "cell_type": "code",
   "execution_count": null,
   "id": "d075a00a",
   "metadata": {},
   "outputs": [],
   "source": [
    "# ! pip install pandas geopandas shapely"
   ]
  },
  {
   "cell_type": "markdown",
   "id": "df3a434c",
   "metadata": {},
   "source": [
    "# Import Packages"
   ]
  },
  {
   "cell_type": "code",
   "execution_count": null,
   "id": "f2637030",
   "metadata": {},
   "outputs": [],
   "source": [
    "import os\n",
    "import pandas as pd\n",
    "import geopandas as gpd\n",
    "from dotenv import load_dotenv\n",
    "from shapely.geometry import box\n",
    "import matplotlib.pyplot as plt\n",
    "\n",
    "import sys\n",
    "sys.path.append(\"../../src\")\n",
    "from utils.Database import Database"
   ]
  },
  {
   "cell_type": "markdown",
   "id": "3436d638",
   "metadata": {},
   "source": [
    "# Set-up Environment"
   ]
  },
  {
   "cell_type": "code",
   "execution_count": null,
   "id": "c91d9607",
   "metadata": {},
   "outputs": [],
   "source": [
    "# load the .env file variables \n",
    "load_dotenv()\n",
    "\n",
    "TABLE_CANADA_DIVISION = os.getenv(\"TABLE_CANADA_DIVISION\")\n",
    "\n",
    "CACHE_STORAGE_DIR = os.getenv(\"CACHE_STORAGE_DIR\")\n",
    "\n",
    "ECCC_CACHE_HOURLY_DOWNLOADED_DATA_LIST_FILE = f\"{CACHE_STORAGE_DIR}{os.sep}eccc_hourly_downloaded_data_no_dupe_loc.csv\""
   ]
  },
  {
   "cell_type": "code",
   "execution_count": null,
   "id": "51527f97",
   "metadata": {},
   "outputs": [],
   "source": [
    "REGION_BUFFER_IN_M = 100_000"
   ]
  },
  {
   "cell_type": "markdown",
   "id": "a8dcedc7",
   "metadata": {},
   "source": [
    "# Helper Functions"
   ]
  },
  {
   "cell_type": "code",
   "execution_count": null,
   "id": "50af9f48",
   "metadata": {},
   "outputs": [],
   "source": [
    "db = Database()"
   ]
  },
  {
   "cell_type": "markdown",
   "id": "47420a34",
   "metadata": {},
   "source": [
    "# Data Loading"
   ]
  },
  {
   "cell_type": "code",
   "execution_count": null,
   "id": "d69ca8fe",
   "metadata": {},
   "outputs": [],
   "source": [
    "canada_gpd = gpd.read_postgis(\n",
    "    sql = f\"\"\"SELECT * from \"{TABLE_CANADA_DIVISION}\"; \"\"\",\n",
    "    con = db.connection,\n",
    "    geom_col = \"geometry\",\n",
    ")"
   ]
  },
  {
   "cell_type": "code",
   "execution_count": null,
   "id": "40886bc5",
   "metadata": {},
   "outputs": [],
   "source": [
    "eccc_data_exits_df = pd.read_csv(\n",
    "    ECCC_CACHE_HOURLY_DOWNLOADED_DATA_LIST_FILE\n",
    ")\n",
    "eccc_data_exits_df"
   ]
  },
  {
   "cell_type": "code",
   "execution_count": null,
   "id": "cf519ab8",
   "metadata": {},
   "outputs": [],
   "source": [
    "eccc_data_exits_gdf = gpd.GeoDataFrame(\n",
    "    eccc_data_exits_df,\n",
    "    crs=\"EPSG:4326\",\n",
    "    geometry=gpd.points_from_xy(\n",
    "        eccc_data_exits_df['Longitude'], \n",
    "        eccc_data_exits_df['Latitude']\n",
    "    ),\n",
    ")"
   ]
  },
  {
   "cell_type": "code",
   "execution_count": null,
   "id": "1b79e2b3",
   "metadata": {},
   "outputs": [],
   "source": [
    "utm_crs = eccc_data_exits_gdf.estimate_utm_crs()\n",
    "\n",
    "eccc_data_exits_gdf = eccc_data_exits_gdf.to_crs(\n",
    "    utm_crs\n",
    ")"
   ]
  },
  {
   "cell_type": "code",
   "execution_count": null,
   "id": "58cd0506",
   "metadata": {},
   "outputs": [],
   "source": [
    "eccc_data_exits_bounds_gdf = gpd.GeoDataFrame()\n",
    "eccc_data_exits_bounds_gdf['geometry'] = eccc_data_exits_gdf['geometry'].apply(\n",
    "    lambda point: box(\n",
    "        point.x - REGION_BUFFER_IN_M,\n",
    "        point.y - REGION_BUFFER_IN_M,\n",
    "        point.x + REGION_BUFFER_IN_M,\n",
    "        point.y + REGION_BUFFER_IN_M\n",
    "    )\n",
    ")"
   ]
  },
  {
   "cell_type": "markdown",
   "id": "81c99be6",
   "metadata": {},
   "source": [
    "# Visualization"
   ]
  },
  {
   "cell_type": "code",
   "execution_count": null,
   "id": "5f1030e2",
   "metadata": {},
   "outputs": [],
   "source": [
    "figsize = (20,20)\n",
    "fig_epsg = 3979\n",
    "\n",
    "print(f\"Plotting Canada...\")\n",
    "ax = canada_gpd.to_crs(\n",
    "    epsg = fig_epsg\n",
    ").plot(\n",
    "    figsize = figsize,\n",
    "    facecolor = '#FFFFFF00',\n",
    "    edgecolor = '#888888FF',\n",
    ")\n",
    "\n",
    "print(f\"Plotting Bounds...\")\n",
    "eccc_data_exits_bounds_gdf.to_crs(\n",
    "    epsg = fig_epsg,\n",
    ").plot(\n",
    "    ax = ax,\n",
    "    facecolor = '#FFAAAA44',\n",
    "    edgecolor = '#FF8888AA',\n",
    ")\n",
    "\n",
    "print(f\"Plotting Stations...\")\n",
    "eccc_data_exits_gdf.to_crs(\n",
    "    epsg = fig_epsg,\n",
    ").plot(\n",
    "    ax = ax,\n",
    "    marker = \"1\",\n",
    "    markersize = 50,\n",
    "    color = '#FF1111FF',\n",
    "    label = \"Weather Station\"\n",
    ")\n",
    "\n",
    "plt.legend(\n",
    "    loc = 'lower left',\n",
    "    fontsize = 32,\n",
    "    markerscale = 4\n",
    ")\n",
    "\n",
    "plt.axis('off') # no need for axis as it does not showes lat long\n",
    "\n",
    "plt.savefig(\n",
    "    f\"../../assets/figures/station_rs_cover.png\", \n",
    "    transparent = True,\n",
    "    bbox_inches = 'tight', # compress the content  \n",
    "    pad_inches = 0, # have no extra margin\n",
    ")\n",
    "\n",
    "plt.show()"
   ]
  },
  {
   "cell_type": "markdown",
   "id": "bc704f40",
   "metadata": {},
   "source": [
    "# Find the Non-Overlapping Coverage"
   ]
  },
  {
   "cell_type": "code",
   "execution_count": null,
   "id": "93b33a7a",
   "metadata": {},
   "outputs": [],
   "source": [
    "combined_geom = eccc_data_exits_bounds_gdf.unary_union"
   ]
  },
  {
   "cell_type": "code",
   "execution_count": null,
   "id": "e3ccb019",
   "metadata": {},
   "outputs": [],
   "source": [
    "combined_gdf = gpd.GeoDataFrame(\n",
    "    geometry = [combined_geom], \n",
    "    crs = eccc_data_exits_bounds_gdf.crs\n",
    ")"
   ]
  },
  {
   "cell_type": "code",
   "execution_count": null,
   "id": "1d583b2b",
   "metadata": {},
   "outputs": [],
   "source": [
    "combined_gdf.to_crs(\n",
    "    utm_crs\n",
    ").area / 10**6   #in km^2\n",
    "# printed value is the non-overlapping area in km^2"
   ]
  }
 ],
 "metadata": {
  "kernelspec": {
   "display_name": ".venv",
   "language": "python",
   "name": "python3"
  },
  "language_info": {
   "codemirror_mode": {
    "name": "ipython",
    "version": 3
   },
   "file_extension": ".py",
   "mimetype": "text/x-python",
   "name": "python",
   "nbconvert_exporter": "python",
   "pygments_lexer": "ipython3",
   "version": "3.10.12"
  }
 },
 "nbformat": 4,
 "nbformat_minor": 5
}
