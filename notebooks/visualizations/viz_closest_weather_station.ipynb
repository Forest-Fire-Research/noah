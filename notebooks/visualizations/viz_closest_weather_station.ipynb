{
 "cells": [
  {
   "cell_type": "code",
   "execution_count": null,
   "id": "698c49fa",
   "metadata": {},
   "outputs": [],
   "source": [
    "# ! pip install pandas geopandas"
   ]
  },
  {
   "cell_type": "markdown",
   "id": "f9d50212",
   "metadata": {},
   "source": [
    "# Import Packages"
   ]
  },
  {
   "cell_type": "code",
   "execution_count": null,
   "id": "06c4cce3",
   "metadata": {},
   "outputs": [],
   "source": [
    "import os\n",
    "import pandas as pd\n",
    "import geopandas as gpd\n",
    "from dotenv import load_dotenv\n",
    "import matplotlib.pyplot as plt"
   ]
  },
  {
   "cell_type": "markdown",
   "id": "be1041f0",
   "metadata": {},
   "source": [
    "# Set-up Environment"
   ]
  },
  {
   "cell_type": "code",
   "execution_count": null,
   "id": "a0251bf5",
   "metadata": {},
   "outputs": [],
   "source": [
    "# load the .env file variables \n",
    "load_dotenv()\n",
    "\n",
    "CACHE_STORAGE_DIR = os.getenv(\"CACHE_STORAGE_DIR\")\n",
    "\n",
    "ECCC_CACHE_HOURLY_DOWNLOADED_DATA_LIST_FILE = f\"{CACHE_STORAGE_DIR}{os.sep}eccc_hourly_downloaded_data_no_dupe_loc.csv\""
   ]
  },
  {
   "cell_type": "markdown",
   "id": "f1997d64",
   "metadata": {},
   "source": [
    "# Data Loading"
   ]
  },
  {
   "cell_type": "code",
   "execution_count": null,
   "id": "824993c5",
   "metadata": {},
   "outputs": [],
   "source": [
    "eccc_data_exits_df = pd.read_csv(\n",
    "    ECCC_CACHE_HOURLY_DOWNLOADED_DATA_LIST_FILE\n",
    ")\n",
    "eccc_data_exits_df"
   ]
  },
  {
   "cell_type": "code",
   "execution_count": null,
   "id": "e47e4795",
   "metadata": {},
   "outputs": [],
   "source": [
    "eccc_data_exits_gdf = gpd.GeoDataFrame(\n",
    "    eccc_data_exits_df,\n",
    "    crs=\"EPSG:4326\",\n",
    "    geometry=gpd.points_from_xy(\n",
    "        eccc_data_exits_df['Longitude'], \n",
    "        eccc_data_exits_df['Latitude']\n",
    "    ),\n",
    ")\n"
   ]
  },
  {
   "cell_type": "code",
   "execution_count": null,
   "id": "3be89f8e",
   "metadata": {},
   "outputs": [],
   "source": [
    "# get utm crs\n",
    "utm_crs = eccc_data_exits_gdf.estimate_utm_crs()\n",
    "utm_crs"
   ]
  },
  {
   "cell_type": "code",
   "execution_count": null,
   "id": "06f29d72",
   "metadata": {},
   "outputs": [],
   "source": [
    "# set to utm crs\n",
    "eccc_data_exits_gdf = eccc_data_exits_gdf.to_crs(\n",
    "    utm_crs\n",
    ")"
   ]
  },
  {
   "cell_type": "markdown",
   "id": "4386e8df",
   "metadata": {},
   "source": [
    "# Data Extraction"
   ]
  },
  {
   "cell_type": "code",
   "execution_count": null,
   "id": "bf6ad84f",
   "metadata": {},
   "outputs": [],
   "source": [
    "closest_station_distance = []\n",
    "for index, geom in enumerate(eccc_data_exits_gdf.geometry):\n",
    "    # discard the current staion\n",
    "    other_stations = eccc_data_exits_gdf[['geometry']][eccc_data_exits_gdf.index != index]\n",
    "    # get distance\n",
    "    distance = eccc_data_exits_gdf.iloc[index].geometry.distance(other_stations.geometry).min()\n",
    "    # skip if closest station\n",
    "    if distance == 0:\n",
    "        continue\n",
    "    # add distance\n",
    "    closest_station_distance.append(distance)"
   ]
  },
  {
   "cell_type": "code",
   "execution_count": null,
   "id": "d6f0bef8",
   "metadata": {},
   "outputs": [],
   "source": [
    "distance_col = \"Distance in km\"\n",
    "distance_df = pd.DataFrame(data = {\n",
    "    distance_col: closest_station_distance\n",
    "})\n",
    "\n",
    "# in meters\n",
    "distance_df[distance_col] = distance_df[distance_col] / 1000\n",
    "\n",
    "# get stats\n",
    "mean_distance = distance_df[distance_col].mean()\n",
    "median_distance = distance_df[distance_col].median()\n",
    "quartile_90_distance = distance_df[distance_col].quantile(0.9)\n"
   ]
  },
  {
   "cell_type": "markdown",
   "id": "ddeeb48d",
   "metadata": {},
   "source": [
    "# Visualization"
   ]
  },
  {
   "cell_type": "code",
   "execution_count": null,
   "id": "e0dbf7a0",
   "metadata": {},
   "outputs": [],
   "source": [
    "# plot the dat\n",
    "ax = distance_df[distance_col].plot(\n",
    "    kind = 'hist',\n",
    "    bins = 50,\n",
    "    figsize = (15, 3),\n",
    ")\n",
    "\n",
    "ax.set_xlabel(\n",
    "    \"Distance in km\", \n",
    "    fontsize = 14\n",
    ")\n",
    "\n",
    "ax.tick_params(\n",
    "    axis = 'x', \n",
    "    labelsize = 14\n",
    ") \n",
    "\n",
    "ax.set_ylabel(\n",
    "    \"Frequency\", \n",
    "    fontsize = 14\n",
    ")\n",
    "\n",
    "ax.tick_params(\n",
    "    axis = 'y', \n",
    "    labelsize = 14\n",
    ") \n",
    "\n",
    "plt.axvline(\n",
    "    mean_distance, \n",
    "    color = 'red', \n",
    "    linestyle = 'dashed', \n",
    "    linewidth = 2, \n",
    "    label = f'Mean: {mean_distance:.2f} km'\n",
    ")\n",
    "\n",
    "plt.axvline(\n",
    "    quartile_90_distance, \n",
    "    color = 'darkRed', \n",
    "    linestyle = 'dashed', \n",
    "    linewidth = 2, \n",
    "    label = f'Quartile 90%: {quartile_90_distance:.2f} km'\n",
    ")\n",
    "\n",
    "\n",
    "plt.legend(\n",
    "    fontsize = 16\n",
    ")\n",
    "\n",
    "plt.savefig(\n",
    "    f\"../../assets/figures/closest_station_distance_hist.png\", \n",
    "    transparent = True,\n",
    "    bbox_inches = 'tight', # compress the content  \n",
    "    pad_inches = 0.05, # have no extra margin\n",
    ")\n",
    "\n",
    "plt.show()"
   ]
  },
  {
   "cell_type": "code",
   "execution_count": null,
   "id": "04b3fe3d",
   "metadata": {},
   "outputs": [],
   "source": []
  }
 ],
 "metadata": {
  "kernelspec": {
   "display_name": ".venv",
   "language": "python",
   "name": "python3"
  },
  "language_info": {
   "codemirror_mode": {
    "name": "ipython",
    "version": 3
   },
   "file_extension": ".py",
   "mimetype": "text/x-python",
   "name": "python",
   "nbconvert_exporter": "python",
   "pygments_lexer": "ipython3",
   "version": "3.10.12"
  }
 },
 "nbformat": 4,
 "nbformat_minor": 5
}
