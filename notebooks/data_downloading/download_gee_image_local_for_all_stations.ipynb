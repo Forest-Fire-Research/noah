{
 "cells": [
  {
   "cell_type": "code",
   "execution_count": null,
   "id": "a7297eb1",
   "metadata": {},
   "outputs": [],
   "source": [
    "# ! pip install geedim geemap earthengine-api python-dotenv"
   ]
  },
  {
   "cell_type": "markdown",
   "id": "670471fc",
   "metadata": {},
   "source": [
    "# Import Packages"
   ]
  },
  {
   "cell_type": "code",
   "execution_count": null,
   "id": "e41eb011",
   "metadata": {},
   "outputs": [],
   "source": [
    "import os\n",
    "import ee\n",
    "import json\n",
    "import geemap\n",
    "import pandas as pd\n",
    "from datetime import datetime\n",
    "from dotenv import load_dotenv"
   ]
  },
  {
   "cell_type": "markdown",
   "id": "e09cf847",
   "metadata": {},
   "source": [
    "# Set-up Environment"
   ]
  },
  {
   "cell_type": "code",
   "execution_count": null,
   "id": "2280e253",
   "metadata": {},
   "outputs": [],
   "source": [
    "# load the .env file variables \n",
    "load_dotenv()\n",
    "EE_PROJECT_NAME = os.getenv(\"EE_PROJECT_NAME\")\n",
    "\n",
    "GEEE_STORAGE_DIR = os.getenv(\"GEEE_STORAGE_DIR\")\n",
    "CACHE_STORAGE_DIR = os.getenv(\"CACHE_STORAGE_DIR\")\n",
    "\n",
    "LANDSAT8_START_DATE = os.getenv(\"LANDSAT8_START_DATE\")\n",
    "LANDSAT8_DATA_STORAGE_DIR = os.getenv(\"LANDSAT8_DATA_STORAGE_DIR\")\n",
    "\n",
    "ECCC_CACHE_HOURLY_DOWNLOADED_DATA_LIST_FILE = f\"{CACHE_STORAGE_DIR}{os.sep}eccc_hourly_downloaded_data_no_dupe_loc.csv\"\n",
    "\n",
    "DATA_STORAGE_DIR = f\"{GEEE_STORAGE_DIR}{os.sep}{LANDSAT8_DATA_STORAGE_DIR}\""
   ]
  },
  {
   "cell_type": "code",
   "execution_count": null,
   "id": "67191415",
   "metadata": {},
   "outputs": [],
   "source": [
    "REGION_BUFFER_IN_M = 100_000\n",
    "CLOUD_COVER_MAX = 90\n",
    "SPATIAL_RESOLUTION = 30\n",
    "CRS = \"EPSG:3979\"\n",
    "IS_REGION_DOWNLOAD = False"
   ]
  },
  {
   "cell_type": "code",
   "execution_count": null,
   "id": "6cbb0b12",
   "metadata": {},
   "outputs": [],
   "source": [
    "LANDSAT8_SURFACE_REFLECTANCE_COLLECTION_NAME = \"LANDSAT/LC08/C02/T1\""
   ]
  },
  {
   "cell_type": "code",
   "execution_count": null,
   "id": "577ddd5a",
   "metadata": {},
   "outputs": [],
   "source": [
    "LANDSAT8_SURFACE_REFLECTANCE_BAND_NAME = [\n",
    "    'B1', # ultra blue, coastal aerosol\n",
    "    'B2', # blue\n",
    "    'B3', # green\n",
    "    'B4', # red\n",
    "    'B5', # near infrared\n",
    "    'B6', # shortwave infrared 1\n",
    "    'B7', # shortwave infrared 2\n",
    "    'B8', # Panchromatic used for sharpning images\n",
    "    'B9', # Cirrus (cloud colver mapping)\n",
    "    'B10', # TIR 1\n",
    "    'B11', # TIR 2 \n",
    "]"
   ]
  },
  {
   "cell_type": "markdown",
   "id": "4cc7f071",
   "metadata": {},
   "source": [
    "# API Authentication\n",
    "\n",
    "You will need a Googel account with GEE enabled. GEE is free!!!"
   ]
  },
  {
   "cell_type": "code",
   "execution_count": null,
   "id": "7bb7741b",
   "metadata": {},
   "outputs": [],
   "source": [
    "ee.Authenticate()"
   ]
  },
  {
   "cell_type": "code",
   "execution_count": null,
   "id": "650f7f50",
   "metadata": {},
   "outputs": [],
   "source": [
    "ee.Initialize(\n",
    "    project=EE_PROJECT_NAME\n",
    ")"
   ]
  },
  {
   "cell_type": "markdown",
   "id": "aacb9a80",
   "metadata": {},
   "source": [
    "# Data Loading"
   ]
  },
  {
   "cell_type": "code",
   "execution_count": null,
   "id": "3841be1a",
   "metadata": {},
   "outputs": [],
   "source": [
    "eccc_data_exits_df = pd.read_csv(\n",
    "    ECCC_CACHE_HOURLY_DOWNLOADED_DATA_LIST_FILE\n",
    ")\n",
    "eccc_data_exits_df"
   ]
  },
  {
   "cell_type": "markdown",
   "id": "fc20a407",
   "metadata": {},
   "source": [
    "# Data Download"
   ]
  },
  {
   "cell_type": "code",
   "execution_count": null,
   "id": "2ca51ec1",
   "metadata": {},
   "outputs": [],
   "source": [
    "long_lat_download_cache = []\n",
    "\n",
    "present_date = datetime.now()\n",
    "\n",
    "landsat8_start_date = datetime.strptime(LANDSAT8_START_DATE,'%Y-%m-%d')\n",
    "\n",
    "dataset_size = 0\n",
    "\n",
    "for eccc_station_row in eccc_data_exits_df.iterrows():\n",
    "    # get station data\n",
    "    latitude = eccc_station_row[1]['Latitude']\n",
    "    longitude = eccc_station_row[1]['Longitude']\n",
    "    climate_id = eccc_station_row[1]['Climate ID']\n",
    "    station_end_year = eccc_station_row[1]['HLY Last Year']\n",
    "    station_start_year = eccc_station_row[1]['HLY First Year']\n",
    "    print(f\"Started process for Climate ID: {climate_id}...\")\n",
    "\n",
    "    # build lat long\n",
    "    long_lat = (longitude, latitude)\n",
    "\n",
    "    # build gee search bounds\n",
    "    point = ee.Geometry.Point(list(long_lat))\n",
    "    region = point.buffer(REGION_BUFFER_IN_M).bounds()\n",
    "\n",
    "    # get appropriate search dates\n",
    "    start_date = datetime(\n",
    "        year = int(station_start_year),\n",
    "        month = 1,\n",
    "        day = 1\n",
    "    )\n",
    "    start_date = LANDSAT8_START_DATE if landsat8_start_date > start_date else start_date.strftime('%Y-%m-%d')\n",
    "    end_date = datetime(\n",
    "        year = int(station_end_year),\n",
    "        month = 1,\n",
    "        day = 1\n",
    "    )\n",
    "    end_date = present_date.strftime('%Y-%m-%d') if present_date < end_date else end_date.strftime('%Y-%m-%d')\n",
    "    print(f\"Time filter: {start_date} - {end_date}\")\n",
    "\n",
    "    if start_date > end_date:\n",
    "        print(f\">>> Time of station data recording not present in {LANDSAT8_SURFACE_REFLECTANCE_COLLECTION_NAME} !!!\")\n",
    "        continue\n",
    "\n",
    "    # download only if not in cache of downloaded location\n",
    "    if long_lat not in long_lat_download_cache:\n",
    "        # get collection \n",
    "        collection = ee.ImageCollection(LANDSAT8_SURFACE_REFLECTANCE_COLLECTION_NAME) \\\n",
    "            .filterBounds(region if IS_REGION_DOWNLOAD else point) \\\n",
    "            .filterDate(start_date, end_date) \\\n",
    "            .filterMetadata('CLOUD_COVER_LAND', 'less_than', CLOUD_COVER_MAX)\n",
    "        \n",
    "        collection_size = collection.size().getInfo()\n",
    "        print(f\"Collection size: {collection_size}\")\n",
    "\n",
    "        dataset_size +=collection_size\n",
    "        \n",
    "        image_list = collection.toList(collection_size)\n",
    "\n",
    "        # download collection data \n",
    "        for image_index in range(0, collection_size):\n",
    "            # get image\n",
    "            image = ee.Image(\n",
    "                image_list.get(image_index)\n",
    "            )\n",
    "            # get metadata\n",
    "            image_metadata = image.getInfo()\n",
    "\n",
    "            # get id\n",
    "            id = image_metadata['id']\n",
    "            id = id.replace('/', '_')\n",
    "\n",
    "            # get start time \n",
    "            image_time = image_metadata['properties']['system:time_start']\n",
    "            image_time_object = datetime.utcfromtimestamp(image_time / 1000)\n",
    "            \n",
    "            # build file name\n",
    "            file_name = f'{id}_{climate_id}_{REGION_BUFFER_IN_M}_{image_time}'\n",
    "            file_name_path_no_extension = f\"{DATA_STORAGE_DIR}{os.sep}{file_name}\"\n",
    "            tif_path = f\"{file_name_path_no_extension}.tif\"\n",
    "            metadata_path = f\"{file_name_path_no_extension}.json\"\n",
    "\n",
    "            # skip if the data exists\n",
    "            if os.path.isfile(tif_path) and os.path.isfile(metadata_path):\n",
    "                print(f\">>> ({image_index+1}/{collection_size}) TIF and Metadata found!\")\n",
    "                continue\n",
    "            \n",
    "            print(f\"Downloading: ({image_index+1}/{collection_size})\")\n",
    "            # download if tif is not there\n",
    "            if not os.path.isfile(tif_path):\n",
    "                geemap.download_ee_image(\n",
    "                    image = image,\n",
    "                    filename = tif_path,\n",
    "                    region = region,\n",
    "                    scale = SPATIAL_RESOLUTION, # resolution\n",
    "                    crs = CRS # projection of landcover\n",
    "                )\n",
    "            else:\n",
    "                print(f\">>> TIF found!\")\n",
    "            \n",
    "\n",
    "            # download metadata if not exists\n",
    "            if not os.path.isfile(metadata_path):\n",
    "                with open(metadata_path, \"w\") as metadata_file:\n",
    "                    json.dump(image_metadata, metadata_file)\n",
    "            else:\n",
    "                print(f\">>> Metadata found!\")\n",
    "\n",
    "    else:\n",
    "        print(f\"Found cache for location: {long_lat} (long/lat)\")\n",
    "\n",
    "    long_lat_download_cache.append(long_lat)\n"
   ]
  }
 ],
 "metadata": {
  "kernelspec": {
   "display_name": ".venv",
   "language": "python",
   "name": "python3"
  },
  "language_info": {
   "codemirror_mode": {
    "name": "ipython",
    "version": 3
   },
   "file_extension": ".py",
   "mimetype": "text/x-python",
   "name": "python",
   "nbconvert_exporter": "python",
   "pygments_lexer": "ipython3",
   "version": "3.10.12"
  }
 },
 "nbformat": 4,
 "nbformat_minor": 5
}
