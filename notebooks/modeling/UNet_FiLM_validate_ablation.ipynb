{
 "cells": [
  {
   "cell_type": "code",
   "execution_count": 1,
   "id": "365f28fd",
   "metadata": {},
   "outputs": [],
   "source": [
    "# ! pip install scikit-image\n",
    "# ! pip install torch torchmetrics zarr torchvision\n",
    "# ! nvidia-smi"
   ]
  },
  {
   "cell_type": "markdown",
   "id": "133a3efa",
   "metadata": {},
   "source": [
    "# Import Packages"
   ]
  },
  {
   "cell_type": "code",
   "execution_count": null,
   "id": "fed026a0",
   "metadata": {},
   "outputs": [],
   "source": [
    "import torch\n",
    "from tqdm import tqdm \n",
    "import torch.nn as nn\n",
    "from torch.utils.data import DataLoader\n",
    "from torchmetrics.image import PeakSignalNoiseRatio, StructuralSimilarityIndexMeasure\n",
    "import matplotlib.pyplot as plt\n",
    "\n",
    "import sys\n",
    "sys.path.append(\"../../src\")\n",
    "from utils.NOAHminiDataset import *\n",
    "from utils.NOAHModelUNetFiLM import *"
   ]
  },
  {
   "cell_type": "markdown",
   "id": "e9004d8a",
   "metadata": {},
   "source": [
    "# Helper Functions"
   ]
  },
  {
   "cell_type": "code",
   "execution_count": null,
   "id": "b6e0bb63-50f0-43d5-9d86-4418eb6f8ee5",
   "metadata": {},
   "outputs": [],
   "source": [
    "def plot_gen_image(image_path, real, generated):\n",
    "    # build plot\n",
    "    fig, axs = plt.subplots(\n",
    "        nrows = 2, \n",
    "        ncols = 1, \n",
    "        figsize=(10, 5)\n",
    "    )\n",
    "    \n",
    "    # plot real\n",
    "    axs[0].imshow(\n",
    "        real.cpu().detach().numpy()[0].squeeze(),\n",
    "        # vmin = -1, \n",
    "        # vmax = 1\n",
    "    )\n",
    "    axs[0].axis('off')\n",
    "    # axs[0].set_title(f'Band: {band}')\n",
    "    axs[0].set_ylabel(f'Real')\n",
    "    \n",
    "    \n",
    "    # plot generated\n",
    "    axs[1].imshow(\n",
    "        generated.cpu().detach().numpy()[0].squeeze(),\n",
    "        # vmin = -1, \n",
    "        # vmax = 1\n",
    "    )\n",
    "    axs[1].axis('off')\n",
    "    # axs[1].set_title(f'Band: {band} (Generated)')\n",
    "    axs[1].set_ylabel(f'Generated')\n",
    "\n",
    "    plt.savefig(\n",
    "        image_path, \n",
    "        transparent = True,\n",
    "        bbox_inches = 'tight', # compress the content  \n",
    "        pad_inches = 0, # have no extra margin\n",
    "    )\n",
    "    \n",
    "    plt.show()\n"
   ]
  },
  {
   "cell_type": "markdown",
   "id": "c2409025",
   "metadata": {},
   "source": [
    "# Set-up Environment"
   ]
  },
  {
   "cell_type": "code",
   "execution_count": null,
   "id": "f0b84662",
   "metadata": {},
   "outputs": [],
   "source": [
    "num_channels = 5 # static rs\n",
    "conditioning_dim = (24 * 6) + 4 # 24hrs for 6 features + lat, long, elev, cloud cover\n",
    "\n",
    "learning_rate = 0.00001\n",
    "batch_size = 1\n",
    "num_epochs = 100\n",
    "\n",
    "# device = 'cpu'\n",
    "# device = 'cuda:0'\n",
    "device = 'cuda:1'"
   ]
  },
  {
   "cell_type": "code",
   "execution_count": null,
   "id": "d48d119d",
   "metadata": {},
   "outputs": [],
   "source": [
    "dataset_dict = {\n",
    "    'B1': {\n",
    "        'train_dataset': NOAHminiB1Dataset(device = device),\n",
    "        'test_dataset': NOAHminiB1Dataset(\n",
    "            device = device,\n",
    "            dataset_csv = 'test.csv'\n",
    "        ),\n",
    "        'val_dataset': NOAHminiB1Dataset(\n",
    "            device = device,\n",
    "            dataset_csv = 'val.csv'\n",
    "        ),\n",
    "    },\n",
    "    'B2': {\n",
    "        'train_dataset': NOAHminiB2Dataset(device = device),\n",
    "        'test_dataset': NOAHminiB2Dataset(\n",
    "            device = device,\n",
    "            dataset_csv = 'test.csv'\n",
    "        ),\n",
    "        'val_dataset': NOAHminiB2Dataset(\n",
    "            device = device,\n",
    "            dataset_csv = 'val.csv'\n",
    "        ),\n",
    "    },\n",
    "    'B3': {\n",
    "        'train_dataset': NOAHminiB3Dataset(device = device),\n",
    "        'test_dataset': NOAHminiB3Dataset(\n",
    "            device = device,\n",
    "            dataset_csv = 'test.csv'\n",
    "        ),\n",
    "        'val_dataset': NOAHminiB3Dataset(\n",
    "            device = device,\n",
    "            dataset_csv = 'val.csv'\n",
    "        ),\n",
    "    },\n",
    "    'B4': {\n",
    "        'train_dataset': NOAHminiB4Dataset(device = device),\n",
    "        'test_dataset': NOAHminiB4Dataset(\n",
    "            device = device,\n",
    "            dataset_csv = 'test.csv'\n",
    "        ),\n",
    "        'val_dataset': NOAHminiB4Dataset(\n",
    "            device = device,\n",
    "            dataset_csv = 'val.csv'\n",
    "        ),\n",
    "    },\n",
    "    'B5': {\n",
    "        'train_dataset': NOAHminiB5Dataset(device = device),\n",
    "        'test_dataset': NOAHminiB5Dataset(\n",
    "            device = device,\n",
    "            dataset_csv = 'test.csv'\n",
    "        ),\n",
    "        'val_dataset': NOAHminiB5Dataset(\n",
    "            device = device,\n",
    "            dataset_csv = 'val.csv'\n",
    "        ),\n",
    "    },\n",
    "    'B6': {\n",
    "        'train_dataset': NOAHminiB6Dataset(device = device),\n",
    "        'test_dataset': NOAHminiB6Dataset(\n",
    "            device = device,\n",
    "            dataset_csv = 'test.csv'\n",
    "        ),\n",
    "        'val_dataset': NOAHminiB6Dataset(\n",
    "            device = device,\n",
    "            dataset_csv = 'val.csv'\n",
    "        ),\n",
    "    },\n",
    "    'B7': {\n",
    "        'train_dataset': NOAHminiB7Dataset(device = device),\n",
    "        'test_dataset': NOAHminiB7Dataset(\n",
    "            device = device,\n",
    "            dataset_csv = 'test.csv'\n",
    "        ),\n",
    "        'val_dataset': NOAHminiB7Dataset(\n",
    "            device = device,\n",
    "            dataset_csv = 'val.csv'\n",
    "        ),\n",
    "    },\n",
    "    'B8': {\n",
    "        'train_dataset': NOAHminiB8Dataset(device = device),\n",
    "        'test_dataset': NOAHminiB8Dataset(\n",
    "            device = device,\n",
    "            dataset_csv = 'test.csv'\n",
    "        ),\n",
    "        'val_dataset': NOAHminiB8Dataset(\n",
    "            device = device,\n",
    "            dataset_csv = 'val.csv'\n",
    "        ),\n",
    "    },\n",
    "    'B9': {\n",
    "        'train_dataset': NOAHminiB9Dataset(device = device),\n",
    "        'test_dataset': NOAHminiB9Dataset(\n",
    "            device = device,\n",
    "            dataset_csv = 'test.csv'\n",
    "        ),\n",
    "        'val_dataset': NOAHminiB9Dataset(\n",
    "            device = device,\n",
    "            dataset_csv = 'val.csv'\n",
    "        ),\n",
    "    },\n",
    "    'B10': {\n",
    "        'train_dataset': NOAHminiB10Dataset(device = device),\n",
    "        'test_dataset': NOAHminiB10Dataset(\n",
    "            device = device,\n",
    "            dataset_csv = 'test.csv'\n",
    "        ),\n",
    "        'val_dataset': NOAHminiB10Dataset(\n",
    "            device = device,\n",
    "            dataset_csv = 'val.csv'\n",
    "        ),\n",
    "    },\n",
    "    'B11': {\n",
    "        'train_dataset': NOAHminiB11Dataset(device = device),\n",
    "        'test_dataset': NOAHminiB11Dataset(\n",
    "            device = device,\n",
    "            dataset_csv = 'test.csv'\n",
    "        ),\n",
    "        'val_dataset': NOAHminiB11Dataset(\n",
    "            device = device,\n",
    "            dataset_csv = 'val.csv'\n",
    "        ),\n",
    "    },\n",
    "}"
   ]
  },
  {
   "cell_type": "code",
   "execution_count": 11,
   "id": "a431c118-d324-4fe4-a793-1e3eac1b1b79",
   "metadata": {},
   "outputs": [],
   "source": [
    "ssim = StructuralSimilarityIndexMeasure(data_range=1.0).to(device)\n",
    "psnr = PeakSignalNoiseRatio().to(device)\n",
    "mse = nn.MSELoss()"
   ]
  },
  {
   "cell_type": "markdown",
   "id": "3262c18e",
   "metadata": {},
   "source": [
    "# Run Model validation"
   ]
  },
  {
   "cell_type": "code",
   "execution_count": null,
   "id": "ffa17f09-8b4b-438d-b386-47199fccadd1",
   "metadata": {},
   "outputs": [
    {
     "name": "stdout",
     "output_type": "stream",
     "text": [
      "Working on B8 -> Channels: [1, 2, 3, 4]....\n"
     ]
    },
    {
     "name": "stderr",
     "output_type": "stream",
     "text": [
      "Batch:   0%|          | 0/15 [00:00<?, ?it/s]"
     ]
    },
    {
     "name": "stderr",
     "output_type": "stream",
     "text": [
      "Batch: 100%|██████████| 15/15 [00:04<00:00,  3.06it/s, mse=0.958, ssim=-0.687, psnr=-7.46] \n"
     ]
    },
    {
     "name": "stdout",
     "output_type": "stream",
     "text": [
      "B8 Val MSE:1.703165  SSIM:0.102453  PSNR:-0.306109\n",
      "Working on B8 -> Channels: [0, 2, 3, 4]....\n"
     ]
    },
    {
     "name": "stderr",
     "output_type": "stream",
     "text": [
      "Batch: 100%|██████████| 15/15 [00:04<00:00,  3.37it/s, mse=0.191, ssim=0.328, psnr=6.4]    \n"
     ]
    },
    {
     "name": "stdout",
     "output_type": "stream",
     "text": [
      "B8 Val MSE:0.991394  SSIM:0.104520  PSNR:-0.857896\n",
      "Working on B8 -> Channels: [0, 1, 3, 4]....\n"
     ]
    },
    {
     "name": "stderr",
     "output_type": "stream",
     "text": [
      "Batch: 100%|██████████| 15/15 [00:04<00:00,  3.36it/s, mse=1.23, ssim=0.14, psnr=1.22]    \n"
     ]
    },
    {
     "name": "stdout",
     "output_type": "stream",
     "text": [
      "B8 Val MSE:1.104813  SSIM:0.141327  PSNR:-1.751382\n",
      "Working on B8 -> Channels: [0, 1, 2, 4]....\n"
     ]
    },
    {
     "name": "stderr",
     "output_type": "stream",
     "text": [
      "Batch: 100%|██████████| 15/15 [00:04<00:00,  3.28it/s, mse=0.38, ssim=0.335, psnr=4.76]   \n"
     ]
    },
    {
     "name": "stdout",
     "output_type": "stream",
     "text": [
      "B8 Val MSE:1.282298  SSIM:0.076486  PSNR:-0.989720\n",
      "Working on B8 -> Channels: [0, 1, 2, 3]....\n"
     ]
    },
    {
     "name": "stderr",
     "output_type": "stream",
     "text": [
      "Batch: 100%|██████████| 15/15 [00:04<00:00,  3.29it/s, mse=0.742, ssim=0.169, psnr=1.64]  \n"
     ]
    },
    {
     "name": "stdout",
     "output_type": "stream",
     "text": [
      "B8 Val MSE:1.198546  SSIM:0.057141  PSNR:-1.431296\n",
      "Working on B9 -> Channels: [1, 2, 3, 4]....\n"
     ]
    },
    {
     "name": "stderr",
     "output_type": "stream",
     "text": [
      "Batch: 100%|██████████| 15/15 [00:04<00:00,  3.32it/s, mse=1.96, ssim=-0.00325, psnr=-1.91] \n"
     ]
    },
    {
     "name": "stdout",
     "output_type": "stream",
     "text": [
      "B9 Val MSE:1.715343  SSIM:0.195507  PSNR:-0.964845\n",
      "Working on B9 -> Channels: [0, 2, 3, 4]....\n"
     ]
    },
    {
     "name": "stderr",
     "output_type": "stream",
     "text": [
      "Batch: 100%|██████████| 15/15 [00:04<00:00,  3.31it/s, mse=4.26, ssim=0.000318, psnr=-6.34]\n"
     ]
    },
    {
     "name": "stdout",
     "output_type": "stream",
     "text": [
      "B9 Val MSE:0.928416  SSIM:0.390177  PSNR:-0.533872\n",
      "Working on B9 -> Channels: [0, 1, 3, 4]....\n"
     ]
    },
    {
     "name": "stderr",
     "output_type": "stream",
     "text": [
      "Batch: 100%|██████████| 15/15 [00:04<00:00,  3.32it/s, mse=2.86, ssim=0.406, psnr=-17.2]  \n"
     ]
    },
    {
     "name": "stdout",
     "output_type": "stream",
     "text": [
      "B9 Val MSE:1.021915  SSIM:0.371390  PSNR:0.448068\n",
      "Working on B9 -> Channels: [0, 1, 2, 4]....\n"
     ]
    },
    {
     "name": "stderr",
     "output_type": "stream",
     "text": [
      "Batch: 100%|██████████| 15/15 [00:04<00:00,  3.27it/s, mse=0.394, ssim=0.018, psnr=-19.5]  \n"
     ]
    },
    {
     "name": "stdout",
     "output_type": "stream",
     "text": [
      "B9 Val MSE:1.124819  SSIM:0.488403  PSNR:-2.029593\n",
      "Working on B9 -> Channels: [0, 1, 2, 3]....\n"
     ]
    },
    {
     "name": "stderr",
     "output_type": "stream",
     "text": [
      "Batch: 100%|██████████| 15/15 [00:04<00:00,  3.34it/s, mse=0.502, ssim=0.808, psnr=-3.95]  \n"
     ]
    },
    {
     "name": "stdout",
     "output_type": "stream",
     "text": [
      "B9 Val MSE:0.780028  SSIM:0.577123  PSNR:0.648480\n",
      "Working on B10 -> Channels: [1, 2, 3, 4]....\n"
     ]
    },
    {
     "name": "stderr",
     "output_type": "stream",
     "text": [
      "Batch: 100%|██████████| 15/15 [00:04<00:00,  3.33it/s, mse=0.679, ssim=0.256, psnr=4.04]  \n"
     ]
    },
    {
     "name": "stdout",
     "output_type": "stream",
     "text": [
      "B10 Val MSE:0.876202  SSIM:0.341166  PSNR:-1.010282\n",
      "Working on B10 -> Channels: [0, 2, 3, 4]....\n"
     ]
    },
    {
     "name": "stderr",
     "output_type": "stream",
     "text": [
      "Batch: 100%|██████████| 15/15 [00:04<00:00,  3.35it/s, mse=0.00167, ssim=0.961, psnr=23.6] \n"
     ]
    },
    {
     "name": "stdout",
     "output_type": "stream",
     "text": [
      "B10 Val MSE:0.766439  SSIM:0.441515  PSNR:1.136684\n",
      "Working on B10 -> Channels: [0, 1, 3, 4]....\n"
     ]
    },
    {
     "name": "stderr",
     "output_type": "stream",
     "text": [
      "Batch: 100%|██████████| 15/15 [00:04<00:00,  3.33it/s, mse=3.06, ssim=0.0475, psnr=-15.8] \n"
     ]
    },
    {
     "name": "stdout",
     "output_type": "stream",
     "text": [
      "B10 Val MSE:0.693469  SSIM:0.452256  PSNR:2.483800\n",
      "Working on B10 -> Channels: [0, 1, 2, 4]....\n"
     ]
    },
    {
     "name": "stderr",
     "output_type": "stream",
     "text": [
      "Batch: 100%|██████████| 15/15 [00:04<00:00,  3.24it/s, mse=2.51, ssim=0.0398, psnr=-18.3] \n"
     ]
    },
    {
     "name": "stdout",
     "output_type": "stream",
     "text": [
      "B10 Val MSE:0.720294  SSIM:0.397797  PSNR:-1.585514\n",
      "Working on B10 -> Channels: [0, 1, 2, 3]....\n"
     ]
    },
    {
     "name": "stderr",
     "output_type": "stream",
     "text": [
      "Batch: 100%|██████████| 15/15 [00:04<00:00,  3.30it/s, mse=0.145, ssim=0.495, psnr=12]    \n"
     ]
    },
    {
     "name": "stdout",
     "output_type": "stream",
     "text": [
      "B10 Val MSE:1.565427  SSIM:0.116421  PSNR:-5.010538\n",
      "Working on B11 -> Channels: [1, 2, 3, 4]....\n"
     ]
    },
    {
     "name": "stderr",
     "output_type": "stream",
     "text": [
      "Batch: 100%|██████████| 15/15 [00:04<00:00,  3.30it/s, mse=0.107, ssim=0.876, psnr=8.41]   \n"
     ]
    },
    {
     "name": "stdout",
     "output_type": "stream",
     "text": [
      "B11 Val MSE:0.682199  SSIM:0.429693  PSNR:3.119110\n",
      "Working on B11 -> Channels: [0, 2, 3, 4]....\n"
     ]
    },
    {
     "name": "stderr",
     "output_type": "stream",
     "text": [
      "Batch: 100%|██████████| 15/15 [00:04<00:00,  3.31it/s, mse=0.233, ssim=0.615, psnr=5.24]   \n"
     ]
    },
    {
     "name": "stdout",
     "output_type": "stream",
     "text": [
      "B11 Val MSE:0.670348  SSIM:0.528468  PSNR:0.213288\n",
      "Working on B11 -> Channels: [0, 1, 3, 4]....\n"
     ]
    },
    {
     "name": "stderr",
     "output_type": "stream",
     "text": [
      "Batch: 100%|██████████| 15/15 [00:04<00:00,  3.26it/s, mse=0.0542, ssim=0.633, psnr=13.1]  \n"
     ]
    },
    {
     "name": "stdout",
     "output_type": "stream",
     "text": [
      "B11 Val MSE:0.961516  SSIM:0.415041  PSNR:3.274360\n",
      "Working on B11 -> Channels: [0, 1, 2, 4]....\n"
     ]
    },
    {
     "name": "stderr",
     "output_type": "stream",
     "text": [
      "Batch: 100%|██████████| 15/15 [00:04<00:00,  3.33it/s, mse=0.381, ssim=0.452, psnr=6.6]  \n"
     ]
    },
    {
     "name": "stdout",
     "output_type": "stream",
     "text": [
      "B11 Val MSE:0.677977  SSIM:0.374280  PSNR:2.179719\n",
      "Working on B11 -> Channels: [0, 1, 2, 3]....\n"
     ]
    },
    {
     "name": "stderr",
     "output_type": "stream",
     "text": [
      "Batch: 100%|██████████| 15/15 [00:04<00:00,  3.33it/s, mse=0.163, ssim=0.631, psnr=12.7] "
     ]
    },
    {
     "name": "stdout",
     "output_type": "stream",
     "text": [
      "B11 Val MSE:0.625993  SSIM:0.559442  PSNR:1.856943\n"
     ]
    },
    {
     "name": "stderr",
     "output_type": "stream",
     "text": [
      "\n"
     ]
    }
   ],
   "source": [
    "for band in dataset_dict:\n",
    "\n",
    "    for channel in range(num_channels):\n",
    "        channels = [c for c in range(num_channels) if c != channel]\n",
    "        print(f\"Working on {band} -> Channels: {channels}....\")\n",
    "\n",
    "        # get path\n",
    "        model_path =  f\"../../cache/saved_models/UNet_FiLM_{band}_ssim_{channels}_run1.pth\"\n",
    "\n",
    "        # init model\n",
    "        model = UNetFiLM(\n",
    "            in_channels = num_channels -1, # because we are removing 1 for ablation\n",
    "            conditioning_dim = conditioning_dim\n",
    "        ).to(device)\n",
    "        # load save state dict\n",
    "        model.load_state_dict(torch.load(model_path, weights_only=True))\n",
    "\n",
    "        # get val dataset\n",
    "        val_dataset = dataset_dict[band]['val_dataset']\n",
    "        val_dataloader = DataLoader(\n",
    "            val_dataset, \n",
    "            batch_size = batch_size,\n",
    "            shuffle = True, \n",
    "            drop_last = True\n",
    "        )\n",
    "\n",
    "        # predict\n",
    "        model.eval()\n",
    "        \n",
    "        # clear cache\n",
    "        torch.cuda.empty_cache()\n",
    "\n",
    "        # get validation results\n",
    "        running_mse = []\n",
    "        running_ssim = []\n",
    "        running_psnr = []\n",
    "        data_count = 0\n",
    "\n",
    "        # loop over validation data\n",
    "        val_batch_progress_bar = tqdm(\n",
    "            val_dataloader,\n",
    "            desc = \"Batch\"\n",
    "        )\n",
    "\n",
    "        is_image = True\n",
    "        \n",
    "        for gbs, static_rs, targets in val_batch_progress_bar:\n",
    "            outputs = model(\n",
    "                x_img = static_rs[:,channels], \n",
    "                x_weather = gbs,\n",
    "            )\n",
    "\n",
    "            if is_image:\n",
    "                is_image = False\n",
    "                # plot image\n",
    "                plot_gen_image(\n",
    "                    image_path = f\"../../assets/figures/gen_image_unet_flim_{band}.png\",\n",
    "                    real = static_rs[0],\n",
    "                    generated = outputs[0]\n",
    "                )\n",
    "                \n",
    "            \n",
    "            # get ssim\n",
    "            ssim_val = ssim(targets, outputs).item()\n",
    "            # get psnr\n",
    "            psnr_val = psnr(targets, outputs).item()\n",
    "            # mse\n",
    "            mse_val = mse(targets, outputs).item()\n",
    "            \n",
    "            data_count += gbs.size(0)\n",
    "            running_mse.append(mse_val * gbs.size(0))\n",
    "            running_ssim.append(ssim_val * gbs.size(0))\n",
    "            running_psnr.append(psnr_val * gbs.size(0))\n",
    "            \n",
    "            val_batch_progress_bar.set_postfix({\n",
    "                'mse': mse_val,\n",
    "                'ssim': ssim_val,\n",
    "                'psnr': psnr_val\n",
    "            })\n",
    "        print(f\"{band} Val MSE:{(sum(running_mse)/data_count):2f}  SSIM:{(sum(running_ssim)/data_count):2f}  PSNR:{(sum(running_psnr)/data_count):2f}\")\n",
    "        print(f\"Val (std) MSE:{(np.array(running_mse).std()):2f}  SSIM:{(np.array(running_ssim).std()):2f}  PSNR:{(np.array(running_psnr).std()):2f}\")\n",
    "        print(f\"Val MSE:{running_mse}  SSIM:{running_ssim}  PSNR:{running_psnr}\")\n",
    "        \n",
    "    "
   ]
  },
  {
   "cell_type": "code",
   "execution_count": null,
   "id": "a680036e-1562-4c29-be46-28fce5182663",
   "metadata": {},
   "outputs": [],
   "source": []
  },
  {
   "cell_type": "code",
   "execution_count": null,
   "id": "0fa04cd6-0c16-45f4-8cd1-3f3f18f2c5d7",
   "metadata": {},
   "outputs": [],
   "source": []
  }
 ],
 "metadata": {
  "kernelspec": {
   "display_name": ".venv",
   "language": "python",
   "name": "python3"
  },
  "language_info": {
   "codemirror_mode": {
    "name": "ipython",
    "version": 3
   },
   "file_extension": ".py",
   "mimetype": "text/x-python",
   "name": "python",
   "nbconvert_exporter": "python",
   "pygments_lexer": "ipython3",
   "version": "3.10.12"
  }
 },
 "nbformat": 4,
 "nbformat_minor": 5
}
